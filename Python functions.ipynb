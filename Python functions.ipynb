{
 "cells": [
  {
   "cell_type": "markdown",
   "id": "9ed4f5bb",
   "metadata": {},
   "source": [
    "## Positional and keyword arguments\n",
    "\n",
    "A **positional** argument means its position matters in a function call. \n",
    "\n",
    "A **keyword** argument is explicitly defined in a function call with a label. This means the order does not matter."
   ]
  },
  {
   "cell_type": "code",
   "execution_count": 1,
   "id": "429ff5c4",
   "metadata": {},
   "outputs": [],
   "source": [
    "def func(a,b):\n",
    "    name = \"Alice \" + a\n",
    "    age = 15 + b\n",
    "    print (f\"My name is {name} and I am {age} years old\")\n",
    "\n",
    "    "
   ]
  },
  {
   "cell_type": "code",
   "execution_count": 2,
   "id": "4d009cd7",
   "metadata": {},
   "outputs": [
    {
     "name": "stdout",
     "output_type": "stream",
     "text": [
      "My name is Alice Baker and I am 18 years old\n"
     ]
    }
   ],
   "source": [
    "func(\"Baker\",3) # Positional argument"
   ]
  },
  {
   "cell_type": "code",
   "execution_count": 3,
   "id": "91ddfdf0",
   "metadata": {},
   "outputs": [
    {
     "ename": "TypeError",
     "evalue": "can only concatenate str (not \"int\") to str",
     "output_type": "error",
     "traceback": [
      "\u001b[0;31m---------------------------------------------------------------------------\u001b[0m",
      "\u001b[0;31mTypeError\u001b[0m                                 Traceback (most recent call last)",
      "\u001b[0;32m/var/folders/b5/f8xxt6pd56n2g0ylq4cbm36m0000gn/T/ipykernel_1539/2692275253.py\u001b[0m in \u001b[0;36m<module>\u001b[0;34m\u001b[0m\n\u001b[0;32m----> 1\u001b[0;31m \u001b[0mfunc\u001b[0m\u001b[0;34m(\u001b[0m\u001b[0;36m3\u001b[0m\u001b[0;34m,\u001b[0m\u001b[0;34m\"Baker\"\u001b[0m\u001b[0;34m)\u001b[0m\u001b[0;34m\u001b[0m\u001b[0;34m\u001b[0m\u001b[0m\n\u001b[0m",
      "\u001b[0;32m/var/folders/b5/f8xxt6pd56n2g0ylq4cbm36m0000gn/T/ipykernel_1539/898755830.py\u001b[0m in \u001b[0;36mfunc\u001b[0;34m(a, b)\u001b[0m\n\u001b[1;32m      1\u001b[0m \u001b[0;32mdef\u001b[0m \u001b[0mfunc\u001b[0m\u001b[0;34m(\u001b[0m\u001b[0ma\u001b[0m\u001b[0;34m,\u001b[0m\u001b[0mb\u001b[0m\u001b[0;34m)\u001b[0m\u001b[0;34m:\u001b[0m\u001b[0;34m\u001b[0m\u001b[0;34m\u001b[0m\u001b[0m\n\u001b[0;32m----> 2\u001b[0;31m     \u001b[0mname\u001b[0m \u001b[0;34m=\u001b[0m \u001b[0;34m\"Alice \"\u001b[0m \u001b[0;34m+\u001b[0m \u001b[0ma\u001b[0m\u001b[0;34m\u001b[0m\u001b[0;34m\u001b[0m\u001b[0m\n\u001b[0m\u001b[1;32m      3\u001b[0m     \u001b[0mage\u001b[0m \u001b[0;34m=\u001b[0m \u001b[0;36m15\u001b[0m \u001b[0;34m+\u001b[0m \u001b[0mb\u001b[0m\u001b[0;34m\u001b[0m\u001b[0;34m\u001b[0m\u001b[0m\n\u001b[1;32m      4\u001b[0m     \u001b[0mprint\u001b[0m \u001b[0;34m(\u001b[0m\u001b[0;34mf\"My name is {name} and I am {age} years old\"\u001b[0m\u001b[0;34m)\u001b[0m\u001b[0;34m\u001b[0m\u001b[0;34m\u001b[0m\u001b[0m\n\u001b[1;32m      5\u001b[0m \u001b[0;34m\u001b[0m\u001b[0m\n",
      "\u001b[0;31mTypeError\u001b[0m: can only concatenate str (not \"int\") to str"
     ]
    }
   ],
   "source": [
    "func(3,\"Baker\") # Order matters, error raises"
   ]
  },
  {
   "cell_type": "code",
   "execution_count": 4,
   "id": "a648c79f",
   "metadata": {},
   "outputs": [
    {
     "name": "stdout",
     "output_type": "stream",
     "text": [
      "My name is Alice Baker and I am 18 years old\n"
     ]
    }
   ],
   "source": [
    "func(b=3,a=\"Baker\") # Keyword argument"
   ]
  },
  {
   "cell_type": "markdown",
   "id": "68236758",
   "metadata": {},
   "source": [
    "## *args\n",
    "\n",
    "\\*args contains all **positional** arguments which are not included in the function definition. It is stored in ```tuple``` format\n",
    "\n",
    "\\*\\*kwargs contains all **keyword**: arguments which are not included in the function definition. It is stored in ```dictionary``` format.\n"
   ]
  },
  {
   "cell_type": "code",
   "execution_count": 5,
   "id": "87af5827",
   "metadata": {},
   "outputs": [],
   "source": [
    "def suma(a,b,*args):\n",
    "    print (type(args))\n",
    "    print (a+b+sum(args))"
   ]
  },
  {
   "cell_type": "code",
   "execution_count": 6,
   "id": "7ababab9",
   "metadata": {},
   "outputs": [
    {
     "name": "stdout",
     "output_type": "stream",
     "text": [
      "<class 'tuple'>\n",
      "2\n"
     ]
    }
   ],
   "source": [
    "suma(1,3,5,-7)"
   ]
  },
  {
   "cell_type": "code",
   "execution_count": 7,
   "id": "02cf4447",
   "metadata": {},
   "outputs": [],
   "source": [
    "def exam_marks(**kwargs):\n",
    "    print (type(kwargs))\n",
    "    mean = 0\n",
    "    for key in kwargs:\n",
    "        mean += kwargs[key]\n",
    "    print (mean/len(kwargs))"
   ]
  },
  {
   "cell_type": "code",
   "execution_count": 8,
   "id": "f5d11611",
   "metadata": {},
   "outputs": [
    {
     "name": "stdout",
     "output_type": "stream",
     "text": [
      "<class 'dict'>\n",
      "9.0\n"
     ]
    }
   ],
   "source": [
    "exam_marks(history=9,maths=10,physics=8)"
   ]
  },
  {
   "cell_type": "markdown",
   "id": "fb960926",
   "metadata": {},
   "source": [
    "When combining positional and keyword arguments, the order is important. You must call a function in the following order:\n",
    "\n",
    "```func(<positional1>,<positional2>,*args,<keyword1>=<val1>,<keyword2>=<val2>,**kwargs)```"
   ]
  },
  {
   "cell_type": "code",
   "execution_count": 12,
   "id": "4134c915",
   "metadata": {},
   "outputs": [],
   "source": [
    "def func(a,b,*args,c,**kwargs):\n",
    "    print (f\"This is a: {a}\")\n",
    "    print (f\"This is b: {b}\")\n",
    "    print (f\"This is args: {args}\")\n",
    "    print (f\"This is c: {c}\")\n",
    "    print (f\"This is kwargs: {kwargs}\")"
   ]
  },
  {
   "cell_type": "code",
   "execution_count": 14,
   "id": "9c455c78",
   "metadata": {},
   "outputs": [
    {
     "name": "stdout",
     "output_type": "stream",
     "text": [
      "This is a: hello!\n",
      "This is b: I am positional as well!\n",
      "This is args: ('I should be as well!', 'and me!')\n",
      "This is c: I am definitely keyword\n",
      "This is kwargs: {'d': 'Me too!', 'e': 'May I join?'}\n"
     ]
    }
   ],
   "source": [
    "func(\"hello!\", \"I am positional as well!\", \"I should be as well!\", \"and me!\", c=\"I am definitely keyword\", d=\"Me too!\", e=\"May I join?\")"
   ]
  },
  {
   "cell_type": "markdown",
   "id": "89ff3294",
   "metadata": {},
   "source": [
    "## Python decorators\n",
    "\n",
    "Decorators are an advanced feature of Python language that allow you to modify the behavior of a function or method without touching the code. They are called also as **wrappers**.\n"
   ]
  },
  {
   "cell_type": "code",
   "execution_count": 20,
   "id": "f9aca1a0",
   "metadata": {},
   "outputs": [
    {
     "name": "stdout",
     "output_type": "stream",
     "text": [
      "<function f1.<locals>.wrapper at 0x7fe6604e5040>\n",
      "Started\n",
      "Hello\n",
      "Ended\n"
     ]
    }
   ],
   "source": [
    "def f1(func):\n",
    "    def wrapper():\n",
    "        print (\"Started\")\n",
    "        func()\n",
    "        print(\"Ended\")\n",
    "    return wrapper\n",
    "\n",
    "def f():\n",
    "    print(\"Hello\")\n",
    "    \n",
    "print (f1(f)) # This is a function\n",
    "f1(f)() # This is the result of evaluating the function"
   ]
  },
  {
   "cell_type": "markdown",
   "id": "83d3428d",
   "metadata": {},
   "source": [
    "We can now decorate a function. Everytime I call ```f``` I want to do the **functionality** of ```f1```:"
   ]
  },
  {
   "cell_type": "code",
   "execution_count": 24,
   "id": "fb94e65d",
   "metadata": {},
   "outputs": [
    {
     "name": "stdout",
     "output_type": "stream",
     "text": [
      "Started\n",
      "Hello\n",
      "Ended\n"
     ]
    }
   ],
   "source": [
    "#This is equivalent to f1(f)()\n",
    "x = f1(f)\n",
    "\n",
    "x()"
   ]
  },
  {
   "cell_type": "code",
   "execution_count": 25,
   "id": "abdca594",
   "metadata": {},
   "outputs": [
    {
     "name": "stdout",
     "output_type": "stream",
     "text": [
      "Started\n",
      "Hello\n",
      "Ended\n"
     ]
    }
   ],
   "source": [
    "# The syntax of decorator is equivalent to the previous cell\n",
    "@f1\n",
    "def f():\n",
    "    print(\"Hello\")\n",
    "f()"
   ]
  },
  {
   "cell_type": "markdown",
   "id": "1d259c1e",
   "metadata": {},
   "source": [
    "We can insert parameters inside decorators using both **\\*args** and **\\*\\*kwargs**:"
   ]
  },
  {
   "cell_type": "code",
   "execution_count": 27,
   "id": "02d5dd30",
   "metadata": {},
   "outputs": [
    {
     "name": "stdout",
     "output_type": "stream",
     "text": [
      "Started\n",
      "Hi 9\n",
      "Ended\n"
     ]
    }
   ],
   "source": [
    "def f1(func):\n",
    "    def wrapper(*args, **kwargs):\n",
    "        print (\"Started\")\n",
    "        func(*args,**kwargs)\n",
    "        print (\"Ended\")\n",
    "    return wrapper\n",
    "\n",
    "@f1\n",
    "def f(a, b=9):\n",
    "    print(a,b)\n",
    "\n",
    "f(\"Hi\")"
   ]
  },
  {
   "cell_type": "markdown",
   "id": "97aa5474",
   "metadata": {},
   "source": [
    "We can also return values in the decorated function:"
   ]
  },
  {
   "cell_type": "code",
   "execution_count": 29,
   "id": "a8e19b5b",
   "metadata": {},
   "outputs": [
    {
     "name": "stdout",
     "output_type": "stream",
     "text": [
      "Started\n",
      "Ended\n",
      "9\n"
     ]
    }
   ],
   "source": [
    "def f1(func):\n",
    "    def wrapper(*args, **kwargs):\n",
    "        print (\"Started\")\n",
    "        val = func(*args,**kwargs)\n",
    "        print (\"Ended\")\n",
    "        return val\n",
    "    return wrapper\n",
    "\n",
    "@f1\n",
    "def add(x,y):\n",
    "    return x + y\n",
    "\n",
    "print (add(4,5))"
   ]
  },
  {
   "cell_type": "markdown",
   "id": "c141e1dc",
   "metadata": {},
   "source": [
    "## Real-world situations\n",
    "\n",
    "#### Example 1:"
   ]
  },
  {
   "cell_type": "code",
   "execution_count": 33,
   "id": "e00e904f",
   "metadata": {},
   "outputs": [
    {
     "name": "stdout",
     "output_type": "stream",
     "text": [
      "Before\n",
      "run\n",
      "After\n"
     ]
    }
   ],
   "source": [
    "# In this example we have a decorated print, which goes between additional prints\n",
    "# This can be combined with a class method\n",
    "\n",
    "def before_after(func):\n",
    "    def wrapper(*args):\n",
    "        print (\"Before\")\n",
    "        func(*args)\n",
    "        print (\"After\")\n",
    "    return wrapper\n",
    "\n",
    "class Test:\n",
    "    @before_after\n",
    "    def decorated_method(self):\n",
    "        print(\"run\")\n",
    "        \n",
    "t = Test()\n",
    "t.decorated_method()"
   ]
  },
  {
   "cell_type": "markdown",
   "id": "ac9dc785",
   "metadata": {},
   "source": [
    "#### Example 2:"
   ]
  },
  {
   "cell_type": "code",
   "execution_count": 35,
   "id": "513d8330",
   "metadata": {},
   "outputs": [
    {
     "name": "stdout",
     "output_type": "stream",
     "text": [
      "Function took: 2.004908800125122 seconds\n"
     ]
    }
   ],
   "source": [
    "# Timer decorator example. How long does a function take to run?\n",
    "import time\n",
    "\n",
    "def timer(func):\n",
    "    def wrapper():\n",
    "        before = time.time()\n",
    "        func()\n",
    "        print (f\"Function took: {time.time()-before} seconds\")\n",
    "    return wrapper\n",
    "\n",
    "@timer\n",
    "def run():\n",
    "    time.sleep(2)\n",
    "    \n",
    "run()"
   ]
  },
  {
   "cell_type": "markdown",
   "id": "265418a3",
   "metadata": {},
   "source": [
    "#### Example 3:"
   ]
  },
  {
   "cell_type": "code",
   "execution_count": 39,
   "id": "7dc9d276",
   "metadata": {},
   "outputs": [
    {
     "name": "stdout",
     "output_type": "stream",
     "text": [
      "11\n"
     ]
    }
   ],
   "source": [
    "# This is a log function. Stores in a logs.txt file when specifically a function was called and with which arguments\n",
    "\n",
    "import datetime\n",
    "\n",
    "def log(func):\n",
    "    def wrapper(*args,**kwargs):\n",
    "        with open(\"logs.txt\", \"a\") as f:\n",
    "            arguments = \" \".join([str(arg) for arg in args])\n",
    "            current_time = datetime.datetime.now()\n",
    "            f.write(f\"Called function with {arguments} at {current_time} \\n\")\n",
    "        val = func(*args, **kwargs)\n",
    "        return val\n",
    "    return wrapper\n",
    "\n",
    "@log\n",
    "def run(a,b,c=9):\n",
    "    print(a+b+c)\n",
    "\n",
    "run(1,3,c=7)"
   ]
  },
  {
   "cell_type": "markdown",
   "id": "57383c06",
   "metadata": {},
   "source": [
    "Decorators information extracted from:\n",
    "\n",
    "[Python decorators in 15 minutes](https://www.youtube.com/watch?v=r7Dtus7N4pI)"
   ]
  },
  {
   "cell_type": "code",
   "execution_count": null,
   "id": "52b8c1f5",
   "metadata": {},
   "outputs": [],
   "source": []
  }
 ],
 "metadata": {
  "kernelspec": {
   "display_name": "Python 3 (ipykernel)",
   "language": "python",
   "name": "python3"
  },
  "language_info": {
   "codemirror_mode": {
    "name": "ipython",
    "version": 3
   },
   "file_extension": ".py",
   "mimetype": "text/x-python",
   "name": "python",
   "nbconvert_exporter": "python",
   "pygments_lexer": "ipython3",
   "version": "3.9.7"
  }
 },
 "nbformat": 4,
 "nbformat_minor": 5
}
