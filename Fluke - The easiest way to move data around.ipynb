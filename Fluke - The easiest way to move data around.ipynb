{
 "cells": [
  {
   "cell_type": "markdown",
   "id": "42c70e47",
   "metadata": {},
   "source": [
    "In order to move data between locations, such as a remote server to cloud storage (e.g. AWS), you need to handle HTTP/SSH connections and iterate directories.\n",
    "\n",
    "This can be cumbersome. `Fluke` offers a simple API that allows user to interact with remote data in a few lines of code:"
   ]
  },
  {
   "cell_type": "code",
   "execution_count": null,
   "id": "1d6ca4ff",
   "metadata": {},
   "outputs": [],
   "source": [
    "!pip install fluke"
   ]
  },
  {
   "cell_type": "code",
   "execution_count": null,
   "id": "668bd8ef",
   "metadata": {},
   "outputs": [],
   "source": [
    "from fluke.auth import RemoteAuth, AWSAuth\n",
    "from fluke.storage import RemoteDir, AWSS3Dir\n",
    "\n",
    "# authenticate with the remote machine\n",
    "rmt_auth = RemoteAuth.from_password(...)\n",
    "\n",
    "# Authenticate with AWS\n",
    "aws_auth = AWSAuth(...)\n",
    "\n",
    "# Transfer a directory from a remote machine to AWS S3 bucket\n",
    "with(\n",
    "    RemoteDir(auth=rmt_auth, path='/home/user/dir') as rmt, \n",
    "    AWSS3Dir(auth=aws_auth, bucket='bucket', path='dir') as aws\n",
    "):\n",
    "    rmt.transfer_to(dst=aws, recursively=True)"
   ]
  }
 ],
 "metadata": {
  "kernelspec": {
   "display_name": "Python 3 (ipykernel)",
   "language": "python",
   "name": "python3"
  },
  "language_info": {
   "codemirror_mode": {
    "name": "ipython",
    "version": 3
   },
   "file_extension": ".py",
   "mimetype": "text/x-python",
   "name": "python",
   "nbconvert_exporter": "python",
   "pygments_lexer": "ipython3",
   "version": "3.10.6"
  }
 },
 "nbformat": 4,
 "nbformat_minor": 5
}
