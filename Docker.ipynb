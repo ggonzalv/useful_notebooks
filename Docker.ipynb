{
 "cells": [
  {
   "cell_type": "markdown",
   "id": "b72cb986",
   "metadata": {},
   "source": [
    "## Contenedor\n",
    "\n",
    "Un contenedor es una forma de empaquetar nuestras aplicaciones y todas las dependencias que contengan, incluidos los archivos de configuración. Se trata de elementos portables, y por ende sencillos de compartir.\n",
    "\n",
    "Los contenedores se almacenan en un repositorio de contenedores: **docker-hub**\n",
    "\n",
    "Con contenedores, descargas una **imagen** basada en linux. \n",
    "\n",
    "## Imagen\n",
    "\n",
    "Una imagen es el empaquetado, lo que tiene las dependencias y el código, y lo que se comparte.\n",
    "\n",
    "En contraste, un contenedor tiene varias capas, incluyendo una capa de linux como base, y teniendo varias capas o imágenes hasta llegar a la imagen de nuestra aplicación.\n",
    "\n",
    "## Docker vs virtual machine\n",
    "\n",
    "Las VM pesan bastante más porque se virtualiza tanto el kernel como la aplicación, pesando el total muchos GBs. En cambio, con docker sólo tenemos virtualizado las aplicaciones, del orden de los MBs, lo cual implica un mucho mayor rendimiento, y usamos como kernel ubuntu.\n",
    "\n",
    "## Port mapping\n",
    "\n",
    "El *port mapping* se emplea para establecer una conexión entre nuestras aplicaciones y un puerto externo. "
   ]
  },
  {
   "cell_type": "markdown",
   "id": "37839e42",
   "metadata": {},
   "source": [
    "## Comandos\n",
    "\n",
    "#### Comandos de imágenes\n",
    "\n",
    "`docker images`: Listar las imágenes activas\n",
    "\n",
    "`docker pull <image>:<version>`: Descargar una imagen con una versión determinada.\n",
    "\n",
    "`docker image rm <image>`: Eliminar una imagen descargada\n",
    "\n",
    "#### Comandos de contenedores\n",
    "\n",
    "Para crear un contenedor primero necesitamos una imagen descargada.\n",
    "\n",
    "`docker create --name <name> -p<nuestro_puerto>:<puerto_que_queremos_mapear> -e <variable_de_entorno(si se necesita)> <image>`: Crear un contenedor. Devuelve un identificador.\n",
    "\n",
    "`docker start <name_or_id>`: Correr el contenedor.\n",
    "\n",
    "`docker ps -a`: Para comprobar los contenedores activos. `-a` para listar todos, incluso los detenidos.\n",
    "\n",
    "`docker stop <name_or_id>`: Detener un contenedor.\n",
    "\n",
    "`docker rm <name>`: Eliminar un contenedor.\n",
    "\n",
    "`dockers logs --follow <name_or_id>`: Comprobar que un contenedor se ha corrido correctamente\n",
    "\n",
    "`docker run --name <name> -p<nuestro_puerto>:<puerto_que_queremos_mapear> -d -e <variable_de_entorno(si se necesita)> <image>`: Todos estos comandos se pueden resumir en docker run, que descarga la imagen si no la encuentra, crea un contenedor y lo inicia."
   ]
  },
  {
   "cell_type": "markdown",
   "id": "78b77b64",
   "metadata": {},
   "source": [
    "## Conectándose a los contenedores\n",
    "\n",
    "#### Dockerfile\n",
    "\n",
    "Para describir las configuraciones de nuestro contenedor. \n",
    "\n",
    "`FROM <image>:<version>`\n",
    "\n",
    "`RUN mkdir -p <path>`: Donde vamos a meter el código fuente de nuestra aplicación.\n",
    "\n",
    "`WORKDIR <path>`: Especificamos donde vamos a trabajar.\n",
    "\n",
    "`COPY . <path>`: Copiar nuestro código a donde vamos a meter el código.\n",
    "\n",
    "`EXPOSE <port>`: Qué puerto vamos a exponer.\n",
    "\n",
    "`CMD [<command>, <argumentos>]`: Comando a ejecutar\n",
    "\n",
    "#### Redes\n",
    "\n",
    "Las redes permiten que los contenedores docker se comuniquen entre sí.\n",
    "\n",
    "`docker network ls`: Listar redes activas.\n",
    "\n",
    "`docker network create <red>`: Crear una red\n",
    "\n",
    "#### Otros comandos\n",
    "\n",
    "`docker build -t <nombre_de_mi_aplicacion>:<tag>`: Para ejecutar nuestro Dockerfile.\n",
    "\n",
    "`docker create -p<nuestro_puerto>:<puerto_que_queremos_mapear> -e <variable_de_entorno(si se necesita)> <image>`: Para desplegar nuestro contenedor en una red determinada."
   ]
  },
  {
   "cell_type": "markdown",
   "id": "37a7b064",
   "metadata": {},
   "source": [
    "## Docker compose\n",
    "\n",
    "Permite hacer todas las acciones descritas anteriormente:\n",
    "\n",
    "- Descargar una imagen.\n",
    "- Crear una red.\n",
    "- Crear un contenedor.\n",
    "\n",
    "Hemos de agregar un archivo a nuestro repositorio llamado `docker-compose.yml`. Añadimos las líneas:\n",
    "\n",
    "```version: <version>\n",
    "\n",
    "services:\n",
    "    <name> (del contenedor):\n",
    "        build: . (construye la imagen contenida en esta misma ruta)\n",
    "        ports: (puertos a mappear)\n",
    "            - \"<nuestro_puerto>:<puerto_que_queremos_mapear>\"\n",
    "        links:\n",
    "            - Nombre del servicio que queremos mappear (<name2>)\n",
    "    <name2>:\n",
    "        image: <image>\n",
    "        ports:\n",
    "            - \"<nuestro_puerto>:<puerto_que_queremos_mapear>\"\n",
    "        environment: (variables de entorno que necesita nuestra imagen)\n",
    "            - var1: <var1>\n",
    "            - var2: <var2>\n",
    "        volumes:\n",
    "            - <volume_name>:<path> (hay que buscar en la web el path para la imagen empleada\n",
    "            \n",
    "volumes:\n",
    "    <volume_name>\n",
    "```\n",
    "\n",
    "#### Comandos\n",
    "\n",
    "`docker compose up`: Crear el contenedor siguiendo todas las directrices.\n",
    "\n",
    "`docker compose down`: Elimina los contenedores, redes e imágenes desplegadas."
   ]
  },
  {
   "cell_type": "markdown",
   "id": "33d4d10b",
   "metadata": {},
   "source": [
    "## Volumes\n",
    "\n",
    "Hay que añadir unas líneas a nuestro fichero docker-compose para definir todos los volúmenes que van a usar nuestros contenedores, como se ha especificado anteriormente. Estos sirven para que los datos persistan en el tiempo independientemente de que eliminemos los contenedores."
   ]
  },
  {
   "cell_type": "code",
   "execution_count": null,
   "id": "151fbaf3",
   "metadata": {},
   "outputs": [],
   "source": []
  },
  {
   "cell_type": "markdown",
   "id": "0c62284c",
   "metadata": {},
   "source": [
    "## Referencias\n",
    "\n",
    "https://www.youtube.com/watch?v=4Dko5W96WHg"
   ]
  },
  {
   "cell_type": "code",
   "execution_count": null,
   "id": "58e502e0",
   "metadata": {},
   "outputs": [],
   "source": []
  }
 ],
 "metadata": {
  "kernelspec": {
   "display_name": "Python 3 (ipykernel)",
   "language": "python",
   "name": "python3"
  },
  "language_info": {
   "codemirror_mode": {
    "name": "ipython",
    "version": 3
   },
   "file_extension": ".py",
   "mimetype": "text/x-python",
   "name": "python",
   "nbconvert_exporter": "python",
   "pygments_lexer": "ipython3",
   "version": "3.10.6"
  }
 },
 "nbformat": 4,
 "nbformat_minor": 5
}
