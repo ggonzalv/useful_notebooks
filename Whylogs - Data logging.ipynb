{
 "cells": [
  {
   "cell_type": "markdown",
   "id": "fdb3a758",
   "metadata": {},
   "source": [
    "## Whylogs\n",
    "\n",
    "Whylogs is a useful library for logging the summary statistics of a dataset, monitor data changes and ensuring data quality in a few lines of code."
   ]
  },
  {
   "cell_type": "code",
   "execution_count": 1,
   "id": "5ed0598d",
   "metadata": {},
   "outputs": [
    {
     "name": "stdout",
     "output_type": "stream",
     "text": [
      "Defaulting to user installation because normal site-packages is not writeable\n",
      "Requirement already satisfied: pandas in /home/ggonzalv/.local/lib/python3.10/site-packages (1.5.3)\n",
      "Requirement already satisfied: numpy>=1.21.0 in /usr/lib/python3/dist-packages (from pandas) (1.21.5)\n",
      "Requirement already satisfied: python-dateutil>=2.8.1 in /usr/lib/python3/dist-packages (from pandas) (2.8.1)\n",
      "Requirement already satisfied: pytz>=2020.1 in /usr/lib/python3/dist-packages (from pandas) (2022.1)\n"
     ]
    }
   ],
   "source": [
    "!pip install pandas"
   ]
  },
  {
   "cell_type": "code",
   "execution_count": 2,
   "id": "e8df88b7",
   "metadata": {},
   "outputs": [
    {
     "name": "stdout",
     "output_type": "stream",
     "text": [
      "Defaulting to user installation because normal site-packages is not writeable\n",
      "Collecting whylogs\n",
      "  Downloading whylogs-1.1.33-py3-none-any.whl (1.9 MB)\n",
      "\u001b[2K     \u001b[90m━━━━━━━━━━━━━━━━━━━━━━━━━━━━━━━━━━━━━━━━\u001b[0m \u001b[32m1.9/1.9 MB\u001b[0m \u001b[31m2.7 MB/s\u001b[0m eta \u001b[36m0:00:00\u001b[0m00:01\u001b[0m00:01\u001b[0m\n",
      "\u001b[?25hCollecting whylogs-sketching>=3.4.1.dev3\n",
      "  Downloading whylogs_sketching-3.4.1.dev3-cp310-cp310-manylinux_2_17_x86_64.manylinux2014_x86_64.whl (547 kB)\n",
      "\u001b[2K     \u001b[90m━━━━━━━━━━━━━━━━━━━━━━━━━━━━━━━━━━━━━━━\u001b[0m \u001b[32m547.3/547.3 kB\u001b[0m \u001b[31m4.0 MB/s\u001b[0m eta \u001b[36m0:00:00\u001b[0ma \u001b[36m0:00:01\u001b[0m\n",
      "\u001b[?25hRequirement already satisfied: protobuf>=3.19.4 in /home/ggonzalv/.local/lib/python3.10/site-packages (from whylogs) (3.20.3)\n",
      "Requirement already satisfied: typing-extensions>=3.10 in /home/ggonzalv/.local/lib/python3.10/site-packages (from whylogs) (4.5.0)\n",
      "Installing collected packages: whylogs-sketching, whylogs\n",
      "Successfully installed whylogs-1.1.33 whylogs-sketching-3.4.1.dev3\n"
     ]
    }
   ],
   "source": [
    "!pip install whylogs"
   ]
  },
  {
   "cell_type": "code",
   "execution_count": 3,
   "id": "b3fc38e4",
   "metadata": {},
   "outputs": [],
   "source": [
    "import pandas as pd\n",
    "import whylogs as why"
   ]
  },
  {
   "cell_type": "code",
   "execution_count": 4,
   "id": "4b29d341",
   "metadata": {},
   "outputs": [],
   "source": [
    "data = {\n",
    "    \"Fruit\": [\"Apple\", \"Banana\", \"Orange\"], \n",
    "    \"Color\": [\"Red\", \"Yellow\", \"Orange\"],\n",
    "    \"Quantity\": [5, 8, 3]\n",
    "}\n",
    "\n",
    "df = pd.DataFrame(data)"
   ]
  },
  {
   "cell_type": "code",
   "execution_count": 5,
   "id": "f2a9fb83",
   "metadata": {},
   "outputs": [
    {
     "data": {
      "text/html": [
       "<div>\n",
       "<style scoped>\n",
       "    .dataframe tbody tr th:only-of-type {\n",
       "        vertical-align: middle;\n",
       "    }\n",
       "\n",
       "    .dataframe tbody tr th {\n",
       "        vertical-align: top;\n",
       "    }\n",
       "\n",
       "    .dataframe thead th {\n",
       "        text-align: right;\n",
       "    }\n",
       "</style>\n",
       "<table border=\"1\" class=\"dataframe\">\n",
       "  <thead>\n",
       "    <tr style=\"text-align: right;\">\n",
       "      <th></th>\n",
       "      <th>Fruit</th>\n",
       "      <th>Color</th>\n",
       "      <th>Quantity</th>\n",
       "    </tr>\n",
       "  </thead>\n",
       "  <tbody>\n",
       "    <tr>\n",
       "      <th>0</th>\n",
       "      <td>Apple</td>\n",
       "      <td>Red</td>\n",
       "      <td>5</td>\n",
       "    </tr>\n",
       "    <tr>\n",
       "      <th>1</th>\n",
       "      <td>Banana</td>\n",
       "      <td>Yellow</td>\n",
       "      <td>8</td>\n",
       "    </tr>\n",
       "    <tr>\n",
       "      <th>2</th>\n",
       "      <td>Orange</td>\n",
       "      <td>Orange</td>\n",
       "      <td>3</td>\n",
       "    </tr>\n",
       "  </tbody>\n",
       "</table>\n",
       "</div>"
      ],
      "text/plain": [
       "    Fruit   Color  Quantity\n",
       "0   Apple     Red         5\n",
       "1  Banana  Yellow         8\n",
       "2  Orange  Orange         3"
      ]
     },
     "execution_count": 5,
     "metadata": {},
     "output_type": "execute_result"
    }
   ],
   "source": [
    "df"
   ]
  },
  {
   "cell_type": "code",
   "execution_count": 6,
   "id": "773287f4",
   "metadata": {},
   "outputs": [],
   "source": [
    "# Log the dataframe\n",
    "profile = why.log(df).profile()"
   ]
  },
  {
   "cell_type": "code",
   "execution_count": 10,
   "id": "39df8638",
   "metadata": {},
   "outputs": [],
   "source": [
    "# Convert to a pandas dataframe\n",
    "prof_view = profile.view()\n",
    "prof_df = prof_view.to_pandas()"
   ]
  },
  {
   "cell_type": "code",
   "execution_count": 11,
   "id": "c6bff571",
   "metadata": {},
   "outputs": [
    {
     "data": {
      "text/html": [
       "<div>\n",
       "<style scoped>\n",
       "    .dataframe tbody tr th:only-of-type {\n",
       "        vertical-align: middle;\n",
       "    }\n",
       "\n",
       "    .dataframe tbody tr th {\n",
       "        vertical-align: top;\n",
       "    }\n",
       "\n",
       "    .dataframe thead th {\n",
       "        text-align: right;\n",
       "    }\n",
       "</style>\n",
       "<table border=\"1\" class=\"dataframe\">\n",
       "  <thead>\n",
       "    <tr style=\"text-align: right;\">\n",
       "      <th></th>\n",
       "      <th>cardinality/est</th>\n",
       "      <th>cardinality/lower_1</th>\n",
       "      <th>cardinality/upper_1</th>\n",
       "      <th>counts/inf</th>\n",
       "      <th>counts/n</th>\n",
       "      <th>counts/nan</th>\n",
       "      <th>counts/null</th>\n",
       "      <th>distribution/max</th>\n",
       "      <th>distribution/mean</th>\n",
       "      <th>distribution/median</th>\n",
       "      <th>...</th>\n",
       "      <th>frequent_items/frequent_strings</th>\n",
       "      <th>type</th>\n",
       "      <th>types/boolean</th>\n",
       "      <th>types/fractional</th>\n",
       "      <th>types/integral</th>\n",
       "      <th>types/object</th>\n",
       "      <th>types/string</th>\n",
       "      <th>types/tensor</th>\n",
       "      <th>ints/max</th>\n",
       "      <th>ints/min</th>\n",
       "    </tr>\n",
       "    <tr>\n",
       "      <th>column</th>\n",
       "      <th></th>\n",
       "      <th></th>\n",
       "      <th></th>\n",
       "      <th></th>\n",
       "      <th></th>\n",
       "      <th></th>\n",
       "      <th></th>\n",
       "      <th></th>\n",
       "      <th></th>\n",
       "      <th></th>\n",
       "      <th></th>\n",
       "      <th></th>\n",
       "      <th></th>\n",
       "      <th></th>\n",
       "      <th></th>\n",
       "      <th></th>\n",
       "      <th></th>\n",
       "      <th></th>\n",
       "      <th></th>\n",
       "      <th></th>\n",
       "      <th></th>\n",
       "    </tr>\n",
       "  </thead>\n",
       "  <tbody>\n",
       "    <tr>\n",
       "      <th>Color</th>\n",
       "      <td>3.0</td>\n",
       "      <td>3.0</td>\n",
       "      <td>3.00015</td>\n",
       "      <td>0</td>\n",
       "      <td>3</td>\n",
       "      <td>0</td>\n",
       "      <td>0</td>\n",
       "      <td>NaN</td>\n",
       "      <td>0.000000</td>\n",
       "      <td>NaN</td>\n",
       "      <td>...</td>\n",
       "      <td>[FrequentItem(value='Red', est=1, upper=1, low...</td>\n",
       "      <td>SummaryType.COLUMN</td>\n",
       "      <td>0</td>\n",
       "      <td>0</td>\n",
       "      <td>0</td>\n",
       "      <td>0</td>\n",
       "      <td>3</td>\n",
       "      <td>0</td>\n",
       "      <td>NaN</td>\n",
       "      <td>NaN</td>\n",
       "    </tr>\n",
       "    <tr>\n",
       "      <th>Fruit</th>\n",
       "      <td>3.0</td>\n",
       "      <td>3.0</td>\n",
       "      <td>3.00015</td>\n",
       "      <td>0</td>\n",
       "      <td>3</td>\n",
       "      <td>0</td>\n",
       "      <td>0</td>\n",
       "      <td>NaN</td>\n",
       "      <td>0.000000</td>\n",
       "      <td>NaN</td>\n",
       "      <td>...</td>\n",
       "      <td>[FrequentItem(value='Banana', est=1, upper=1, ...</td>\n",
       "      <td>SummaryType.COLUMN</td>\n",
       "      <td>0</td>\n",
       "      <td>0</td>\n",
       "      <td>0</td>\n",
       "      <td>0</td>\n",
       "      <td>3</td>\n",
       "      <td>0</td>\n",
       "      <td>NaN</td>\n",
       "      <td>NaN</td>\n",
       "    </tr>\n",
       "    <tr>\n",
       "      <th>Quantity</th>\n",
       "      <td>3.0</td>\n",
       "      <td>3.0</td>\n",
       "      <td>3.00015</td>\n",
       "      <td>0</td>\n",
       "      <td>3</td>\n",
       "      <td>0</td>\n",
       "      <td>0</td>\n",
       "      <td>8.0</td>\n",
       "      <td>5.333333</td>\n",
       "      <td>5.0</td>\n",
       "      <td>...</td>\n",
       "      <td>[FrequentItem(value='8', est=1, upper=1, lower...</td>\n",
       "      <td>SummaryType.COLUMN</td>\n",
       "      <td>0</td>\n",
       "      <td>0</td>\n",
       "      <td>3</td>\n",
       "      <td>0</td>\n",
       "      <td>0</td>\n",
       "      <td>0</td>\n",
       "      <td>8.0</td>\n",
       "      <td>3.0</td>\n",
       "    </tr>\n",
       "  </tbody>\n",
       "</table>\n",
       "<p>3 rows × 31 columns</p>\n",
       "</div>"
      ],
      "text/plain": [
       "          cardinality/est  cardinality/lower_1  cardinality/upper_1  \\\n",
       "column                                                                \n",
       "Color                 3.0                  3.0              3.00015   \n",
       "Fruit                 3.0                  3.0              3.00015   \n",
       "Quantity              3.0                  3.0              3.00015   \n",
       "\n",
       "          counts/inf  counts/n  counts/nan  counts/null  distribution/max  \\\n",
       "column                                                                      \n",
       "Color              0         3           0            0               NaN   \n",
       "Fruit              0         3           0            0               NaN   \n",
       "Quantity           0         3           0            0               8.0   \n",
       "\n",
       "          distribution/mean  distribution/median  ...  \\\n",
       "column                                            ...   \n",
       "Color              0.000000                  NaN  ...   \n",
       "Fruit              0.000000                  NaN  ...   \n",
       "Quantity           5.333333                  5.0  ...   \n",
       "\n",
       "                            frequent_items/frequent_strings  \\\n",
       "column                                                        \n",
       "Color     [FrequentItem(value='Red', est=1, upper=1, low...   \n",
       "Fruit     [FrequentItem(value='Banana', est=1, upper=1, ...   \n",
       "Quantity  [FrequentItem(value='8', est=1, upper=1, lower...   \n",
       "\n",
       "                        type  types/boolean  types/fractional  types/integral  \\\n",
       "column                                                                          \n",
       "Color     SummaryType.COLUMN              0                 0               0   \n",
       "Fruit     SummaryType.COLUMN              0                 0               0   \n",
       "Quantity  SummaryType.COLUMN              0                 0               3   \n",
       "\n",
       "          types/object  types/string  types/tensor  ints/max  ints/min  \n",
       "column                                                                  \n",
       "Color                0             3             0       NaN       NaN  \n",
       "Fruit                0             3             0       NaN       NaN  \n",
       "Quantity             0             0             0       8.0       3.0  \n",
       "\n",
       "[3 rows x 31 columns]"
      ]
     },
     "execution_count": 11,
     "metadata": {},
     "output_type": "execute_result"
    }
   ],
   "source": [
    "prof_df"
   ]
  },
  {
   "cell_type": "code",
   "execution_count": 12,
   "id": "4315c58e",
   "metadata": {},
   "outputs": [
    {
     "data": {
      "text/plain": [
       "Index(['Color', 'Fruit', 'Quantity'], dtype='object', name='column')"
      ]
     },
     "execution_count": 12,
     "metadata": {},
     "output_type": "execute_result"
    }
   ],
   "source": [
    "prof_df.index"
   ]
  },
  {
   "cell_type": "code",
   "execution_count": 13,
   "id": "f029b10f",
   "metadata": {},
   "outputs": [
    {
     "data": {
      "text/plain": [
       "Index(['cardinality/est', 'cardinality/lower_1', 'cardinality/upper_1',\n",
       "       'counts/inf', 'counts/n', 'counts/nan', 'counts/null',\n",
       "       'distribution/max', 'distribution/mean', 'distribution/median',\n",
       "       'distribution/min', 'distribution/n', 'distribution/q_01',\n",
       "       'distribution/q_05', 'distribution/q_10', 'distribution/q_25',\n",
       "       'distribution/q_75', 'distribution/q_90', 'distribution/q_95',\n",
       "       'distribution/q_99', 'distribution/stddev',\n",
       "       'frequent_items/frequent_strings', 'type', 'types/boolean',\n",
       "       'types/fractional', 'types/integral', 'types/object', 'types/string',\n",
       "       'types/tensor', 'ints/max', 'ints/min'],\n",
       "      dtype='object')"
      ]
     },
     "execution_count": 13,
     "metadata": {},
     "output_type": "execute_result"
    }
   ],
   "source": [
    "prof_df.columns"
   ]
  },
  {
   "cell_type": "markdown",
   "id": "3d789d3c",
   "metadata": {},
   "source": [
    "# References\n",
    "\n",
    "- [GitHub](https://github.com/whylabs/whylogs)"
   ]
  },
  {
   "cell_type": "code",
   "execution_count": null,
   "id": "d448057f",
   "metadata": {},
   "outputs": [],
   "source": []
  }
 ],
 "metadata": {
  "kernelspec": {
   "display_name": "Python 3 (ipykernel)",
   "language": "python",
   "name": "python3"
  },
  "language_info": {
   "codemirror_mode": {
    "name": "ipython",
    "version": 3
   },
   "file_extension": ".py",
   "mimetype": "text/x-python",
   "name": "python",
   "nbconvert_exporter": "python",
   "pygments_lexer": "ipython3",
   "version": "3.10.6"
  }
 },
 "nbformat": 4,
 "nbformat_minor": 5
}
