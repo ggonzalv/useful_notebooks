{
 "cells": [
  {
   "cell_type": "code",
   "execution_count": 11,
   "id": "6dfb1e5f",
   "metadata": {},
   "outputs": [
    {
     "name": "stdout",
     "output_type": "stream",
     "text": [
      "Defaulting to user installation because normal site-packages is not writeable\n",
      "Collecting tabulate\n",
      "  Downloading tabulate-0.9.0-py3-none-any.whl (35 kB)\n",
      "Installing collected packages: tabulate\n",
      "Successfully installed tabulate-0.9.0\n"
     ]
    }
   ],
   "source": [
    "!pip install tabulate"
   ]
  },
  {
   "cell_type": "code",
   "execution_count": 1,
   "id": "813d2abc",
   "metadata": {},
   "outputs": [],
   "source": [
    "import numpy as np\n",
    "import pandas as pd"
   ]
  },
  {
   "cell_type": "markdown",
   "id": "a4f17b20",
   "metadata": {},
   "source": [
    "## Highlight your pandas dataframe"
   ]
  },
  {
   "cell_type": "code",
   "execution_count": 2,
   "id": "e0c1d919",
   "metadata": {},
   "outputs": [],
   "source": [
    "df = pd.DataFrame({\n",
    "    \"col1\": [-5, -2, 1, 4],\n",
    "    \"col2\": [2, 3, -1, 4]\n",
    "})"
   ]
  },
  {
   "cell_type": "code",
   "execution_count": 3,
   "id": "ac1366e2",
   "metadata": {},
   "outputs": [],
   "source": [
    "def highlight_number(row):\n",
    "    return [\n",
    "        \"background-color: red; color: white\"\n",
    "        if cell <= 0\n",
    "        else \"background-color: green; color: white\"\n",
    "        for cell in row\n",
    "    ]"
   ]
  },
  {
   "cell_type": "code",
   "execution_count": 4,
   "id": "cdccb0bc",
   "metadata": {},
   "outputs": [
    {
     "data": {
      "text/html": [
       "<style type=\"text/css\">\n",
       "#T_d76ad_row0_col0, #T_d76ad_row1_col0, #T_d76ad_row2_col1 {\n",
       "  background-color: red;\n",
       "  color: white;\n",
       "}\n",
       "#T_d76ad_row0_col1, #T_d76ad_row1_col1, #T_d76ad_row2_col0, #T_d76ad_row3_col0, #T_d76ad_row3_col1 {\n",
       "  background-color: green;\n",
       "  color: white;\n",
       "}\n",
       "</style>\n",
       "<table id=\"T_d76ad\">\n",
       "  <thead>\n",
       "    <tr>\n",
       "      <th class=\"blank level0\" >&nbsp;</th>\n",
       "      <th id=\"T_d76ad_level0_col0\" class=\"col_heading level0 col0\" >col1</th>\n",
       "      <th id=\"T_d76ad_level0_col1\" class=\"col_heading level0 col1\" >col2</th>\n",
       "    </tr>\n",
       "  </thead>\n",
       "  <tbody>\n",
       "    <tr>\n",
       "      <th id=\"T_d76ad_level0_row0\" class=\"row_heading level0 row0\" >0</th>\n",
       "      <td id=\"T_d76ad_row0_col0\" class=\"data row0 col0\" >-5</td>\n",
       "      <td id=\"T_d76ad_row0_col1\" class=\"data row0 col1\" >2</td>\n",
       "    </tr>\n",
       "    <tr>\n",
       "      <th id=\"T_d76ad_level0_row1\" class=\"row_heading level0 row1\" >1</th>\n",
       "      <td id=\"T_d76ad_row1_col0\" class=\"data row1 col0\" >-2</td>\n",
       "      <td id=\"T_d76ad_row1_col1\" class=\"data row1 col1\" >3</td>\n",
       "    </tr>\n",
       "    <tr>\n",
       "      <th id=\"T_d76ad_level0_row2\" class=\"row_heading level0 row2\" >2</th>\n",
       "      <td id=\"T_d76ad_row2_col0\" class=\"data row2 col0\" >1</td>\n",
       "      <td id=\"T_d76ad_row2_col1\" class=\"data row2 col1\" >-1</td>\n",
       "    </tr>\n",
       "    <tr>\n",
       "      <th id=\"T_d76ad_level0_row3\" class=\"row_heading level0 row3\" >3</th>\n",
       "      <td id=\"T_d76ad_row3_col0\" class=\"data row3 col0\" >4</td>\n",
       "      <td id=\"T_d76ad_row3_col1\" class=\"data row3 col1\" >4</td>\n",
       "    </tr>\n",
       "  </tbody>\n",
       "</table>\n"
      ],
      "text/plain": [
       "<pandas.io.formats.style.Styler at 0x7fd1fe2b3bb0>"
      ]
     },
     "execution_count": 4,
     "metadata": {},
     "output_type": "execute_result"
    }
   ],
   "source": [
    "df.style.apply(highlight_number)"
   ]
  },
  {
   "cell_type": "markdown",
   "id": "63f85252",
   "metadata": {},
   "source": [
    "## Gradient style"
   ]
  },
  {
   "cell_type": "code",
   "execution_count": 5,
   "id": "e3c7f641",
   "metadata": {},
   "outputs": [
    {
     "data": {
      "text/html": [
       "<style type=\"text/css\">\n",
       "#T_a9659_row0_col0, #T_a9659_row2_col1 {\n",
       "  background-color: #fff7fb;\n",
       "  color: #000000;\n",
       "}\n",
       "#T_a9659_row0_col1 {\n",
       "  background-color: #4295c3;\n",
       "  color: #f1f1f1;\n",
       "}\n",
       "#T_a9659_row1_col0 {\n",
       "  background-color: #b4c4df;\n",
       "  color: #000000;\n",
       "}\n",
       "#T_a9659_row1_col1 {\n",
       "  background-color: #0567a2;\n",
       "  color: #f1f1f1;\n",
       "}\n",
       "#T_a9659_row2_col0 {\n",
       "  background-color: #2685bb;\n",
       "  color: #f1f1f1;\n",
       "}\n",
       "#T_a9659_row3_col0, #T_a9659_row3_col1 {\n",
       "  background-color: #023858;\n",
       "  color: #f1f1f1;\n",
       "}\n",
       "</style>\n",
       "<table id=\"T_a9659\">\n",
       "  <thead>\n",
       "    <tr>\n",
       "      <th class=\"blank level0\" >&nbsp;</th>\n",
       "      <th id=\"T_a9659_level0_col0\" class=\"col_heading level0 col0\" >col1</th>\n",
       "      <th id=\"T_a9659_level0_col1\" class=\"col_heading level0 col1\" >col2</th>\n",
       "    </tr>\n",
       "  </thead>\n",
       "  <tbody>\n",
       "    <tr>\n",
       "      <th id=\"T_a9659_level0_row0\" class=\"row_heading level0 row0\" >0</th>\n",
       "      <td id=\"T_a9659_row0_col0\" class=\"data row0 col0\" >-5</td>\n",
       "      <td id=\"T_a9659_row0_col1\" class=\"data row0 col1\" >2</td>\n",
       "    </tr>\n",
       "    <tr>\n",
       "      <th id=\"T_a9659_level0_row1\" class=\"row_heading level0 row1\" >1</th>\n",
       "      <td id=\"T_a9659_row1_col0\" class=\"data row1 col0\" >-2</td>\n",
       "      <td id=\"T_a9659_row1_col1\" class=\"data row1 col1\" >3</td>\n",
       "    </tr>\n",
       "    <tr>\n",
       "      <th id=\"T_a9659_level0_row2\" class=\"row_heading level0 row2\" >2</th>\n",
       "      <td id=\"T_a9659_row2_col0\" class=\"data row2 col0\" >1</td>\n",
       "      <td id=\"T_a9659_row2_col1\" class=\"data row2 col1\" >-1</td>\n",
       "    </tr>\n",
       "    <tr>\n",
       "      <th id=\"T_a9659_level0_row3\" class=\"row_heading level0 row3\" >3</th>\n",
       "      <td id=\"T_a9659_row3_col0\" class=\"data row3 col0\" >4</td>\n",
       "      <td id=\"T_a9659_row3_col1\" class=\"data row3 col1\" >4</td>\n",
       "    </tr>\n",
       "  </tbody>\n",
       "</table>\n"
      ],
      "text/plain": [
       "<pandas.io.formats.style.Styler at 0x7fd28c1b7b20>"
      ]
     },
     "execution_count": 5,
     "metadata": {},
     "output_type": "execute_result"
    }
   ],
   "source": [
    "df.style.background_gradient()"
   ]
  },
  {
   "cell_type": "code",
   "execution_count": 6,
   "id": "135f831a",
   "metadata": {},
   "outputs": [
    {
     "data": {
      "text/html": [
       "<style type=\"text/css\">\n",
       "#T_76d6c_row0_col0, #T_76d6c_row2_col1 {\n",
       "  background-color: #0d0887;\n",
       "  color: #f1f1f1;\n",
       "}\n",
       "#T_76d6c_row0_col1 {\n",
       "  background-color: #e16462;\n",
       "  color: #f1f1f1;\n",
       "}\n",
       "#T_76d6c_row1_col0 {\n",
       "  background-color: #9c179e;\n",
       "  color: #f1f1f1;\n",
       "}\n",
       "#T_76d6c_row1_col1 {\n",
       "  background-color: #fca636;\n",
       "  color: #000000;\n",
       "}\n",
       "#T_76d6c_row2_col0 {\n",
       "  background-color: #ed7953;\n",
       "  color: #f1f1f1;\n",
       "}\n",
       "#T_76d6c_row3_col0, #T_76d6c_row3_col1 {\n",
       "  background-color: #f0f921;\n",
       "  color: #000000;\n",
       "}\n",
       "</style>\n",
       "<table id=\"T_76d6c\">\n",
       "  <thead>\n",
       "    <tr>\n",
       "      <th class=\"blank level0\" >&nbsp;</th>\n",
       "      <th id=\"T_76d6c_level0_col0\" class=\"col_heading level0 col0\" >col1</th>\n",
       "      <th id=\"T_76d6c_level0_col1\" class=\"col_heading level0 col1\" >col2</th>\n",
       "    </tr>\n",
       "  </thead>\n",
       "  <tbody>\n",
       "    <tr>\n",
       "      <th id=\"T_76d6c_level0_row0\" class=\"row_heading level0 row0\" >0</th>\n",
       "      <td id=\"T_76d6c_row0_col0\" class=\"data row0 col0\" >-5</td>\n",
       "      <td id=\"T_76d6c_row0_col1\" class=\"data row0 col1\" >2</td>\n",
       "    </tr>\n",
       "    <tr>\n",
       "      <th id=\"T_76d6c_level0_row1\" class=\"row_heading level0 row1\" >1</th>\n",
       "      <td id=\"T_76d6c_row1_col0\" class=\"data row1 col0\" >-2</td>\n",
       "      <td id=\"T_76d6c_row1_col1\" class=\"data row1 col1\" >3</td>\n",
       "    </tr>\n",
       "    <tr>\n",
       "      <th id=\"T_76d6c_level0_row2\" class=\"row_heading level0 row2\" >2</th>\n",
       "      <td id=\"T_76d6c_row2_col0\" class=\"data row2 col0\" >1</td>\n",
       "      <td id=\"T_76d6c_row2_col1\" class=\"data row2 col1\" >-1</td>\n",
       "    </tr>\n",
       "    <tr>\n",
       "      <th id=\"T_76d6c_level0_row3\" class=\"row_heading level0 row3\" >3</th>\n",
       "      <td id=\"T_76d6c_row3_col0\" class=\"data row3 col0\" >4</td>\n",
       "      <td id=\"T_76d6c_row3_col1\" class=\"data row3 col1\" >4</td>\n",
       "    </tr>\n",
       "  </tbody>\n",
       "</table>\n"
      ],
      "text/plain": [
       "<pandas.io.formats.style.Styler at 0x7fd1fcfed840>"
      ]
     },
     "execution_count": 6,
     "metadata": {},
     "output_type": "execute_result"
    }
   ],
   "source": [
    "df.style.background_gradient(cmap='plasma')"
   ]
  },
  {
   "cell_type": "markdown",
   "id": "b9c822fb",
   "metadata": {},
   "source": [
    "## Format the text display"
   ]
  },
  {
   "cell_type": "code",
   "execution_count": 7,
   "id": "da106eed",
   "metadata": {},
   "outputs": [],
   "source": [
    "df2 = pd.DataFrame({\n",
    "    'item': ['a', 'b'],\n",
    "    'price': [np.nan, 2.34]\n",
    "})"
   ]
  },
  {
   "cell_type": "code",
   "execution_count": 8,
   "id": "95603e78",
   "metadata": {},
   "outputs": [],
   "source": [
    "s = df2.style.format(\n",
    "# format cells\n",
    "{'item': str.upper, 'price': '${:.1f}'},\n",
    "# replace nan with MISSING\n",
    "na_rep='MISSING')"
   ]
  },
  {
   "cell_type": "code",
   "execution_count": 9,
   "id": "2ae928ed",
   "metadata": {},
   "outputs": [
    {
     "data": {
      "text/html": [
       "<style type=\"text/css\">\n",
       "</style>\n",
       "<table id=\"T_82353\">\n",
       "  <thead>\n",
       "    <tr>\n",
       "      <th class=\"blank level0\" >&nbsp;</th>\n",
       "      <th id=\"T_82353_level0_col0\" class=\"col_heading level0 col0\" >item</th>\n",
       "      <th id=\"T_82353_level0_col1\" class=\"col_heading level0 col1\" >price</th>\n",
       "    </tr>\n",
       "  </thead>\n",
       "  <tbody>\n",
       "    <tr>\n",
       "      <th id=\"T_82353_level0_row0\" class=\"row_heading level0 row0\" >0</th>\n",
       "      <td id=\"T_82353_row0_col0\" class=\"data row0 col0\" >A</td>\n",
       "      <td id=\"T_82353_row0_col1\" class=\"data row0 col1\" >MISSING</td>\n",
       "    </tr>\n",
       "    <tr>\n",
       "      <th id=\"T_82353_level0_row1\" class=\"row_heading level0 row1\" >1</th>\n",
       "      <td id=\"T_82353_row1_col0\" class=\"data row1 col0\" >B</td>\n",
       "      <td id=\"T_82353_row1_col1\" class=\"data row1 col1\" >$2.3</td>\n",
       "    </tr>\n",
       "  </tbody>\n",
       "</table>\n"
      ],
      "text/plain": [
       "<pandas.io.formats.style.Styler at 0x7fd1fd066d70>"
      ]
     },
     "execution_count": 9,
     "metadata": {},
     "output_type": "execute_result"
    }
   ],
   "source": [
    "s"
   ]
  },
  {
   "cell_type": "markdown",
   "id": "3eaeb531",
   "metadata": {},
   "source": [
    "## Print DataFrame to markdown format (for GitLab README)"
   ]
  },
  {
   "cell_type": "code",
   "execution_count": 12,
   "id": "90f1afde",
   "metadata": {},
   "outputs": [
    {
     "name": "stdout",
     "output_type": "stream",
     "text": [
      "|    |   col1 |   col2 |\n",
      "|---:|-------:|-------:|\n",
      "|  0 |     -5 |      2 |\n",
      "|  1 |     -2 |      3 |\n",
      "|  2 |      1 |     -1 |\n",
      "|  3 |      4 |      4 |\n"
     ]
    }
   ],
   "source": [
    "print(df.to_markdown())"
   ]
  },
  {
   "cell_type": "code",
   "execution_count": 13,
   "id": "fa7a1210",
   "metadata": {},
   "outputs": [
    {
     "name": "stdout",
     "output_type": "stream",
     "text": [
      "+----+--------+--------+\n",
      "|    |   col1 |   col2 |\n",
      "+====+========+========+\n",
      "|  0 |     -5 |      2 |\n",
      "+----+--------+--------+\n",
      "|  1 |     -2 |      3 |\n",
      "+----+--------+--------+\n",
      "|  2 |      1 |     -1 |\n",
      "+----+--------+--------+\n",
      "|  3 |      4 |      4 |\n",
      "+----+--------+--------+\n"
     ]
    }
   ],
   "source": [
    "print(df.to_markdown(tablefmt='grid'))"
   ]
  },
  {
   "cell_type": "markdown",
   "id": "db296190",
   "metadata": {},
   "source": [
    "## Print DataFrame in Latex format"
   ]
  },
  {
   "cell_type": "code",
   "execution_count": 14,
   "id": "036a04a4",
   "metadata": {},
   "outputs": [
    {
     "name": "stdout",
     "output_type": "stream",
     "text": [
      "\\begin{tabular}{lrr}\n",
      " & col1 & col2 \\\\\n",
      "0 & -5 & 2 \\\\\n",
      "1 & -2 & 3 \\\\\n",
      "2 & 1 & -1 \\\\\n",
      "3 & 4 & 4 \\\\\n",
      "\\end{tabular}\n",
      "\n"
     ]
    }
   ],
   "source": [
    "print (df.style.to_latex())"
   ]
  },
  {
   "cell_type": "code",
   "execution_count": null,
   "id": "87789712",
   "metadata": {},
   "outputs": [],
   "source": []
  }
 ],
 "metadata": {
  "kernelspec": {
   "display_name": "Python 3 (ipykernel)",
   "language": "python",
   "name": "python3"
  },
  "language_info": {
   "codemirror_mode": {
    "name": "ipython",
    "version": 3
   },
   "file_extension": ".py",
   "mimetype": "text/x-python",
   "name": "python",
   "nbconvert_exporter": "python",
   "pygments_lexer": "ipython3",
   "version": "3.10.6"
  }
 },
 "nbformat": 4,
 "nbformat_minor": 5
}
