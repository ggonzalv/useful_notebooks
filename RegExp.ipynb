{
 "cells": [
  {
   "cell_type": "code",
   "execution_count": 1,
   "id": "960fa8ba",
   "metadata": {},
   "outputs": [],
   "source": [
    "#Import necessary modules\n",
    "import re"
   ]
  },
  {
   "cell_type": "markdown",
   "id": "498a75a8",
   "metadata": {},
   "source": [
    "## Raw strings\n",
    "Strings prefixed with an *r*, which tells python not to handle back slices in any special way"
   ]
  },
  {
   "cell_type": "code",
   "execution_count": 2,
   "id": "e5348e44",
   "metadata": {},
   "outputs": [
    {
     "name": "stdout",
     "output_type": "stream",
     "text": [
      "\tTab\n"
     ]
    }
   ],
   "source": [
    "print ('\\tTab')"
   ]
  },
  {
   "cell_type": "code",
   "execution_count": 3,
   "id": "58f286ae",
   "metadata": {},
   "outputs": [
    {
     "name": "stdout",
     "output_type": "stream",
     "text": [
      "\\tTab\n"
     ]
    }
   ],
   "source": [
    "print (r'\\tTab')"
   ]
  },
  {
   "cell_type": "code",
   "execution_count": 4,
   "id": "ffb79e35",
   "metadata": {},
   "outputs": [],
   "source": [
    "text_to_search = '''\n",
    "abcdefghijklmnopqurtuvwxyz\n",
    "ABCDEFGHIJKLMNOPQRSTUVWXYZ\n",
    "1234567890\n",
    "Ha HaHa\n",
    "MetaCharacters (Need to be escaped):\n",
    ". ^ $ * + ? { } [ ] \\ | ( )\n",
    "coreyms.com\n",
    "321-555-4321\n",
    "123.555.1234\n",
    "123*555*1234\n",
    "800-555-1234\n",
    "900-555-1234\n",
    "Mr. Schafer\n",
    "Mr Smith\n",
    "Ms Davis\n",
    "Mrs. Robinson\n",
    "Mr. T\n",
    "'''"
   ]
  },
  {
   "cell_type": "markdown",
   "id": "f701b33c",
   "metadata": {},
   "source": [
    "Use `compile` to assign a pattern\n",
    "\n",
    "Use `finditer` to find a pattern in a text. Returns an iterator which contains all of the matches"
   ]
  },
  {
   "cell_type": "code",
   "execution_count": 5,
   "id": "16cd82d1",
   "metadata": {},
   "outputs": [
    {
     "name": "stdout",
     "output_type": "stream",
     "text": [
      "re.compile('abc')\n"
     ]
    }
   ],
   "source": [
    "pattern = re.compile(r'abc')\n",
    "\n",
    "print(pattern)"
   ]
  },
  {
   "cell_type": "code",
   "execution_count": 6,
   "id": "240ec2ac",
   "metadata": {},
   "outputs": [
    {
     "name": "stdout",
     "output_type": "stream",
     "text": [
      "<callable_iterator object at 0x7fd7a157fdc0>\n"
     ]
    }
   ],
   "source": [
    "matches = pattern.finditer(text_to_search)\n",
    "print (matches)"
   ]
  },
  {
   "cell_type": "code",
   "execution_count": 7,
   "id": "78424904",
   "metadata": {},
   "outputs": [
    {
     "name": "stdout",
     "output_type": "stream",
     "text": [
      "<re.Match object; span=(1, 4), match='abc'>\n",
      "abc\n"
     ]
    }
   ],
   "source": [
    "for match in matches:\n",
    "    print (match)\n",
    "    print (match.group(0))"
   ]
  },
  {
   "cell_type": "markdown",
   "id": "328cb48f",
   "metadata": {},
   "source": [
    "`span` is the beginning and the end of the match"
   ]
  },
  {
   "cell_type": "code",
   "execution_count": 8,
   "id": "e5048b81",
   "metadata": {},
   "outputs": [
    {
     "name": "stdout",
     "output_type": "stream",
     "text": [
      "abc\n"
     ]
    }
   ],
   "source": [
    "print (text_to_search[1:4])"
   ]
  },
  {
   "cell_type": "markdown",
   "id": "ac68cac4",
   "metadata": {},
   "source": [
    "## Special characters in regular expression\n",
    "\n",
    "These can be scaped using \\ before the special characters\n",
    "\n",
    "Character | Use\n",
    "-----|-----\n",
    "'.' | Any character except new line\n",
    "'\\d' | Any digit between (0,9)\n",
    "'\\D'| Anything that is NOT a digit\n",
    "'\\w'| word character (a-z,A-Z,0-9,_ )\n",
    "'\\W'| NOT a word character (a-z,A-Z,0-9,_ )\n",
    "'\\s'| Whitespace (space, tab, newline)\n",
    "'\\S'| NOT whitespace (space, tab, newline)\n",
    "'\\b'| Word boundary (start of the line, white space)\n",
    "'\\B'| NOT Word boundary (start of the line, white space)\n",
    "'\\B'| NOT Word boundary (start of the line, white space)\n",
    "'^'| Beginning of a string\n",
    "'$'| End of a string\n",
    "'*'| 0 or more\n",
    "'+'| 1 or more\n",
    "'?'| 0 or one\n",
    "{3}| Exactly 3\n",
    "{3,4}| Between 3 and 4\n"
   ]
  },
  {
   "cell_type": "code",
   "execution_count": 9,
   "id": "865d01c3",
   "metadata": {},
   "outputs": [
    {
     "name": "stdout",
     "output_type": "stream",
     "text": [
      "<re.Match object; span=(151, 163), match='321-555-4321'>\n",
      "<re.Match object; span=(164, 176), match='123.555.1234'>\n",
      "<re.Match object; span=(177, 189), match='123*555*1234'>\n",
      "<re.Match object; span=(190, 202), match='800-555-1234'>\n",
      "<re.Match object; span=(203, 215), match='900-555-1234'>\n"
     ]
    }
   ],
   "source": [
    "pattern = re.compile(r'\\d\\d\\d.\\d\\d\\d.\\d\\d\\d\\d')\n",
    "matches = pattern.finditer(text_to_search)\n",
    "for match in matches:\n",
    "    print (match)"
   ]
  },
  {
   "cell_type": "markdown",
   "id": "6be4a603",
   "metadata": {},
   "source": [
    "## Character sets\n",
    "\n",
    "Character sets are specified within [] and imply a set of possible characters. Within a character set, '.' is no longer a special character. Typical combinations include [a-zA-Z0-9]. Inside a character set, the symbol '^' NEGATES everything within a character set"
   ]
  },
  {
   "cell_type": "code",
   "execution_count": 10,
   "id": "f47376bc",
   "metadata": {},
   "outputs": [
    {
     "name": "stdout",
     "output_type": "stream",
     "text": [
      "<re.Match object; span=(151, 163), match='321-555-4321'>\n",
      "<re.Match object; span=(164, 176), match='123.555.1234'>\n",
      "<re.Match object; span=(190, 202), match='800-555-1234'>\n",
      "<re.Match object; span=(203, 215), match='900-555-1234'>\n"
     ]
    }
   ],
   "source": [
    "pattern = re.compile(r'\\d\\d\\d[-.]\\d\\d\\d[-.]\\d\\d\\d\\d')\n",
    "matches = pattern.finditer(text_to_search)\n",
    "for match in matches:\n",
    "    print (match)"
   ]
  },
  {
   "cell_type": "code",
   "execution_count": 11,
   "id": "8cd9e936",
   "metadata": {},
   "outputs": [
    {
     "name": "stdout",
     "output_type": "stream",
     "text": [
      "<re.Match object; span=(1, 4), match='mat'>\n",
      "<re.Match object; span=(5, 8), match='cat'>\n"
     ]
    }
   ],
   "source": [
    "text = '''\n",
    "mat\n",
    "cat\n",
    "bat\n",
    "'''\n",
    "\n",
    "pattern = re.compile(r'[^b]at')\n",
    "matches = pattern.finditer(text)\n",
    "for match in matches:\n",
    "    print (match)"
   ]
  },
  {
   "cell_type": "markdown",
   "id": "30b03727",
   "metadata": {},
   "source": [
    "## Quantifier special characters"
   ]
  },
  {
   "cell_type": "code",
   "execution_count": 12,
   "id": "af29b474",
   "metadata": {},
   "outputs": [
    {
     "name": "stdout",
     "output_type": "stream",
     "text": [
      "<re.Match object; span=(151, 163), match='321-555-4321'>\n",
      "<re.Match object; span=(164, 176), match='123.555.1234'>\n",
      "<re.Match object; span=(177, 189), match='123*555*1234'>\n",
      "<re.Match object; span=(190, 202), match='800-555-1234'>\n",
      "<re.Match object; span=(203, 215), match='900-555-1234'>\n"
     ]
    }
   ],
   "source": [
    "pattern = re.compile(r'\\d{3}.\\d{3}.\\d{4}')\n",
    "matches = pattern.finditer(text_to_search)\n",
    "for match in matches:\n",
    "    print (match)"
   ]
  },
  {
   "cell_type": "code",
   "execution_count": 14,
   "id": "7b51c8e3",
   "metadata": {},
   "outputs": [
    {
     "name": "stdout",
     "output_type": "stream",
     "text": [
      "<re.Match object; span=(216, 227), match='Mr. Schafer'>\n",
      "<re.Match object; span=(228, 236), match='Mr Smith'>\n"
     ]
    }
   ],
   "source": [
    "pattern = re.compile(r'Mr\\.?\\s[A-Z]\\w+')\n",
    "matches = pattern.finditer(text_to_search)\n",
    "for match in matches:\n",
    "    print (match)"
   ]
  },
  {
   "cell_type": "markdown",
   "id": "228f3f50",
   "metadata": {},
   "source": [
    "## Groups\n",
    "\n",
    "Groups are written within (). You can build a group with different elements like (a|b|c). You can make all elements within a group present or not (www\\\\.)?"
   ]
  },
  {
   "cell_type": "code",
   "execution_count": 15,
   "id": "018edc94",
   "metadata": {},
   "outputs": [
    {
     "name": "stdout",
     "output_type": "stream",
     "text": [
      "<re.Match object; span=(216, 227), match='Mr. Schafer'>\n",
      "<re.Match object; span=(228, 236), match='Mr Smith'>\n",
      "<re.Match object; span=(237, 245), match='Ms Davis'>\n",
      "<re.Match object; span=(246, 259), match='Mrs. Robinson'>\n"
     ]
    }
   ],
   "source": [
    "pattern = re.compile(r'(Mr|Ms|Mrs)\\.?\\s[A-Z]\\w+')\n",
    "matches = pattern.finditer(text_to_search)\n",
    "for match in matches:\n",
    "    print (match)"
   ]
  },
  {
   "cell_type": "code",
   "execution_count": 18,
   "id": "aaf2d914",
   "metadata": {},
   "outputs": [
    {
     "name": "stdout",
     "output_type": "stream",
     "text": [
      "<re.Match object; span=(1, 24), match='CoreyMSchafer@gmail.com'>\n",
      "<re.Match object; span=(25, 53), match='corey.schafer@university.edu'>\n",
      "<re.Match object; span=(54, 83), match='corey-321-schafer@my-work.net'>\n"
     ]
    }
   ],
   "source": [
    "emails = '''\n",
    "CoreyMSchafer@gmail.com\n",
    "corey.schafer@university.edu\n",
    "corey-321-schafer@my-work.net\n",
    "'''\n",
    "pattern = re.compile(r'[a-zA-Z0-9.-]+@[a-zA-Z-]+\\.(com|edu|net)')\n",
    "matches = pattern.finditer(emails)\n",
    "for match in matches:\n",
    "    print (match)"
   ]
  },
  {
   "cell_type": "code",
   "execution_count": 19,
   "id": "0423a007",
   "metadata": {},
   "outputs": [
    {
     "name": "stdout",
     "output_type": "stream",
     "text": [
      "<re.Match object; span=(1, 23), match='https://www.google.com'>\n",
      "<re.Match object; span=(24, 42), match='http://coreyms.com'>\n",
      "<re.Match object; span=(43, 62), match='https://youtube.com'>\n",
      "<re.Match object; span=(63, 83), match='https://www.nasa.gov'>\n"
     ]
    }
   ],
   "source": [
    "urls = '''\n",
    "https://www.google.com\n",
    "http://coreyms.com\n",
    "https://youtube.com\n",
    "https://www.nasa.gov\n",
    "'''\n",
    "pattern = re.compile(r'https?://(www\\.)?\\w+.(com|gov)')\n",
    "matches = pattern.finditer(urls)\n",
    "for match in matches:\n",
    "    print (match)"
   ]
  },
  {
   "cell_type": "markdown",
   "id": "a83accf1",
   "metadata": {},
   "source": [
    "#### Groups are stored within a match and you can access them with the method `group`"
   ]
  },
  {
   "cell_type": "code",
   "execution_count": 20,
   "id": "515fe92d",
   "metadata": {},
   "outputs": [
    {
     "name": "stdout",
     "output_type": "stream",
     "text": [
      "<re.Match object; span=(1, 23), match='https://www.google.com'>\n",
      "<re.Match object; span=(24, 42), match='http://coreyms.com'>\n",
      "<re.Match object; span=(43, 62), match='https://youtube.com'>\n",
      "<re.Match object; span=(63, 83), match='https://www.nasa.gov'>\n"
     ]
    }
   ],
   "source": [
    "pattern = re.compile(r'https?://(www\\.)?(\\w+)(\\.\\w+)')\n",
    "matches = pattern.finditer(urls)\n",
    "for match in matches:\n",
    "    print (match)"
   ]
  },
  {
   "cell_type": "code",
   "execution_count": 22,
   "id": "04d71524",
   "metadata": {},
   "outputs": [
    {
     "name": "stdout",
     "output_type": "stream",
     "text": [
      "https://www.google.com\n",
      "www.\n",
      "http://coreyms.com\n",
      "None\n",
      "https://youtube.com\n",
      "None\n",
      "https://www.nasa.gov\n",
      "www.\n"
     ]
    }
   ],
   "source": [
    "pattern = re.compile(r'https?://(www\\.)?(\\w+)(\\.\\w+)')\n",
    "matches = pattern.finditer(urls)\n",
    "for match in matches:\n",
    "    print (match.group(0)) # Group 0 corresponds to the full string\n",
    "    print (match.group(1)) # Group 0 corresponds to the full string"
   ]
  },
  {
   "cell_type": "markdown",
   "id": "2a0b246a",
   "metadata": {},
   "source": [
    "## Substitutions: Back reference\n",
    "\n",
    "These can be performed using the `sub` method combined with the groups"
   ]
  },
  {
   "cell_type": "code",
   "execution_count": 28,
   "id": "16267101",
   "metadata": {},
   "outputs": [
    {
     "name": "stdout",
     "output_type": "stream",
     "text": [
      "\n",
      "google.com\n",
      "coreyms.com\n",
      "youtube.com\n",
      "nasa.gov\n",
      "\n"
     ]
    }
   ],
   "source": [
    "pattern = re.compile(r'https?://(www\\.)?(\\w+)(\\.\\w+)')\n",
    "subbed_urls = pattern.sub(r'\\2\\3',urls) # Replace urls with groups 2 and 3 in pattern\n",
    "print(subbed_urls)"
   ]
  },
  {
   "cell_type": "markdown",
   "id": "c098e18e",
   "metadata": {},
   "source": [
    "## Other methods"
   ]
  },
  {
   "cell_type": "markdown",
   "id": "5a91a52f",
   "metadata": {},
   "source": [
    "`findall` returns the matches as a list of strings. If it is matching groups it will only match the groups as a list of tuples"
   ]
  },
  {
   "cell_type": "code",
   "execution_count": 26,
   "id": "31bafbb0",
   "metadata": {},
   "outputs": [
    {
     "name": "stdout",
     "output_type": "stream",
     "text": [
      "[('Mr', 'Sc'), ('Mr', 'Sm'), ('Ms', 'Da'), ('Mrs', 'Ro')]\n"
     ]
    }
   ],
   "source": [
    "pattern = re.compile(r'(Mr|Ms|Mrs)\\.?\\s([A-Z]\\w)+')\n",
    "matches = pattern.findall(text_to_search)\n",
    "print(matches)"
   ]
  },
  {
   "cell_type": "code",
   "execution_count": 27,
   "id": "d0987e45",
   "metadata": {},
   "outputs": [
    {
     "name": "stdout",
     "output_type": "stream",
     "text": [
      "['321-555-4321', '123.555.1234', '123*555*1234', '800-555-1234', '900-555-1234']\n"
     ]
    }
   ],
   "source": [
    "pattern = re.compile(r'\\d{3}.\\d{3}.\\d{4}')\n",
    "matches = pattern.findall(text_to_search)\n",
    "print (matches)"
   ]
  },
  {
   "cell_type": "markdown",
   "id": "eeb22e32",
   "metadata": {},
   "source": [
    "`match` and `search` return only the first match"
   ]
  },
  {
   "cell_type": "markdown",
   "id": "34386d39",
   "metadata": {},
   "source": [
    "## Flags\n",
    "\n",
    "There are several flags. One example is in the re.IGNORECASE, or re.I, which ignores capital or non capital letters"
   ]
  },
  {
   "cell_type": "code",
   "execution_count": 33,
   "id": "cfd9d3c9",
   "metadata": {},
   "outputs": [
    {
     "name": "stdout",
     "output_type": "stream",
     "text": [
      "<re.Match object; span=(0, 44), match='Start a sentence and then bring it to an end'>\n"
     ]
    }
   ],
   "source": [
    "sentence = 'Start a sentence and then bring it to an end'\n",
    "pattern = re.compile(r'^start[\\s\\w]+(end)$', re.I)\n",
    "matches = pattern.search(sentence)\n",
    "print(matches)"
   ]
  },
  {
   "cell_type": "markdown",
   "id": "b3b65ce0",
   "metadata": {},
   "source": [
    "## More on groups\n",
    "\n",
    "Each sub-pattern inside a parenthesis will be captured as a group. We can specify as many groups as we wish within a parenthesis"
   ]
  },
  {
   "cell_type": "code",
   "execution_count": 37,
   "id": "ca2667aa",
   "metadata": {},
   "outputs": [
    {
     "name": "stdout",
     "output_type": "stream",
     "text": [
      "<re.Match object; span=(13, 38), match='PINEAPPLE ice cream is 20'>\n",
      "PINEAPPLE\n",
      "20\n"
     ]
    }
   ],
   "source": [
    "target_string = \"The price of PINEAPPLE ice cream is 20\"\n",
    "pattern = re.compile(r'(\\b[A-Z]+\\b).+(\\b\\d+)$')\n",
    "matches = pattern.finditer(target_string)\n",
    "for match in matches:\n",
    "    print (match)\n",
    "    print (match.group(1))\n",
    "    print (match.group(2))"
   ]
  },
  {
   "cell_type": "code",
   "execution_count": 43,
   "id": "ba0cfc40",
   "metadata": {},
   "outputs": [
    {
     "name": "stdout",
     "output_type": "stream",
     "text": [
      "<re.Match object; span=(24, 36), match='PINEAPPLE 20'>\n",
      "('PINEAPPLE', '20')\n",
      "<re.Match object; span=(37, 45), match='MANGO 30'>\n",
      "('MANGO', '30')\n",
      "<re.Match object; span=(46, 58), match='CHOCOLATE 40'>\n",
      "('CHOCOLATE', '40')\n"
     ]
    }
   ],
   "source": [
    "target_string = \"The price of ice-creams PINEAPPLE 20 MANGO 30 CHOCOLATE 40\"\n",
    "pattern = re.compile(r'(\\b[A-Z]+\\b).(\\b\\d+\\b)')\n",
    "matches = pattern.finditer(target_string)\n",
    "for match in matches:\n",
    "    print (match)\n",
    "    print (match.group(1,2)) # This returns a tuple with the first and the second group for each match"
   ]
  },
  {
   "cell_type": "markdown",
   "id": "c4ea9d76",
   "metadata": {},
   "source": [
    "#### Nested groups\n",
    "\n",
    "Nested groups refer to multiple layers of information. The results of the captured groups are in the order in which they are defined (in order by open parenthesis)"
   ]
  },
  {
   "cell_type": "code",
   "execution_count": 45,
   "id": "b833a7c7",
   "metadata": {},
   "outputs": [
    {
     "name": "stdout",
     "output_type": "stream",
     "text": [
      "Jan 1987\n",
      "1987\n",
      "May 1969\n",
      "1969\n",
      "Aug 2011\n",
      "2011\n"
     ]
    }
   ],
   "source": [
    "text = '''\n",
    "Jan 1987\n",
    "May 1969\n",
    "Aug 2011\n",
    "'''\n",
    "pattern = re.compile(r'([A-Z]\\w\\w\\s(\\d{4}))')\n",
    "matches = pattern.finditer(text)\n",
    "for match in matches:\n",
    "    print (match.group(1))\n",
    "    print (match.group(2))"
   ]
  },
  {
   "cell_type": "code",
   "execution_count": null,
   "id": "22e5b5d9",
   "metadata": {},
   "outputs": [],
   "source": []
  }
 ],
 "metadata": {
  "kernelspec": {
   "display_name": "Python 3 (ipykernel)",
   "language": "python",
   "name": "python3"
  },
  "language_info": {
   "codemirror_mode": {
    "name": "ipython",
    "version": 3
   },
   "file_extension": ".py",
   "mimetype": "text/x-python",
   "name": "python",
   "nbconvert_exporter": "python",
   "pygments_lexer": "ipython3",
   "version": "3.9.7"
  }
 },
 "nbformat": 4,
 "nbformat_minor": 5
}
